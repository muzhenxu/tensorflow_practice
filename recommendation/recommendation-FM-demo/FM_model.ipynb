{
 "cells": [
  {
   "cell_type": "code",
   "execution_count": 14,
   "metadata": {
    "ExecuteTime": {
     "end_time": "2018-07-03T06:14:43.457466Z",
     "start_time": "2018-07-03T06:14:34.126715Z"
    },
    "scrolled": true
   },
   "outputs": [
    {
     "name": "stdout",
     "output_type": "stream",
     "text": [
      "  (0, 1)\t2.0\n",
      "  (1, 1)\t1.0\n",
      "  (1, 2)\t1.0\n",
      "  (2, 1)\t1.0\n",
      "  (2, 3)\t1.0\n",
      "  (3, 1)\t1.0\n",
      "  (3, 4)\t1.0\n",
      "  (4, 1)\t1.0\n",
      "  (4, 5)\t1.0\n",
      "  (5, 1)\t1.0\n",
      "  (5, 6)\t1.0\n",
      "  (6, 1)\t1.0\n",
      "  (6, 7)\t1.0\n",
      "  (7, 1)\t1.0\n",
      "  (7, 8)\t1.0\n",
      "  (8, 1)\t1.0\n",
      "  (8, 9)\t1.0\n",
      "  (9, 1)\t1.0\n",
      "  (9, 10)\t1.0\n",
      "  (10, 1)\t1.0\n",
      "  (10, 11)\t1.0\n",
      "  (11, 1)\t1.0\n",
      "  (11, 12)\t1.0\n",
      "  (12, 1)\t1.0\n",
      "  (12, 13)\t1.0\n",
      "  :\t:\n",
      "  (90557, 146)\t1.0\n",
      "  (90558, 51)\t1.0\n",
      "  (90558, 147)\t1.0\n",
      "  (90559, 96)\t1.0\n",
      "  (90559, 148)\t1.0\n",
      "  (90560, 44)\t1.0\n",
      "  (90560, 149)\t1.0\n",
      "  (90561, 38)\t1.0\n",
      "  (90561, 150)\t1.0\n",
      "  (90562, 90)\t1.0\n",
      "  (90562, 151)\t1.0\n",
      "  (90563, 133)\t1.0\n",
      "  (90563, 152)\t1.0\n",
      "  (90564, 38)\t1.0\n",
      "  (90564, 153)\t1.0\n",
      "  (90565, 115)\t1.0\n",
      "  (90565, 154)\t1.0\n",
      "  (90566, 71)\t1.0\n",
      "  (90566, 155)\t1.0\n",
      "  (90567, 41)\t1.0\n",
      "  (90567, 156)\t1.0\n",
      "  (90568, 46)\t1.0\n",
      "  (90568, 157)\t1.0\n",
      "  (90569, 4)\t1.0\n",
      "  (90569, 158)\t1.0\n",
      "[[ 0.  2.  0. ...,  0.  0.  0.]\n",
      " [ 0.  1.  1. ...,  0.  0.  0.]\n",
      " [ 0.  1.  0. ...,  0.  0.  0.]\n",
      " ..., \n",
      " [ 0.  0.  0. ...,  0.  0.  0.]\n",
      " [ 0.  0.  0. ...,  0.  0.  0.]\n",
      " [ 0.  0.  0. ...,  0.  0.  0.]]\n",
      "(90570, 2623)\n",
      "(9430, 2623)\n"
     ]
    }
   ],
   "source": [
    "from itertools import count\n",
    "from collections import defaultdict\n",
    "from scipy.sparse import csr\n",
    "import numpy as np\n",
    "import pandas as pd\n",
    "import numpy as np\n",
    "from sklearn.feature_extraction import DictVectorizer\n",
    "import tensorflow as tf\n",
    "from tqdm import tqdm_notebook as tqdm\n",
    "\n",
    "\n",
    "def vectorize_dic(dic,ix=None,p=None,n=0,g=0):\n",
    "    \"\"\"\n",
    "    dic -- dictionary of feature lists. Keys are the name of features\n",
    "    ix -- index generator (default None)\n",
    "    p -- dimension of featrure space (number of columns in the sparse matrix) (default None)\n",
    "    \"\"\"\n",
    "    if ix==None:\n",
    "        ix = dict()\n",
    "\n",
    "    nz = n * g\n",
    "\n",
    "    col_ix = np.empty(nz,dtype = int)\n",
    "\n",
    "    i = 0\n",
    "    for k,lis in dic.items():\n",
    "        for t in range(len(lis)):\n",
    "            ix[str(lis[t]) + str(k)] = ix.get(str(lis[t]) + str(k),0) + 1\n",
    "            col_ix[i+t*g] = ix[str(lis[t]) + str(k)]\n",
    "        i += 1\n",
    "\n",
    "    row_ix = np.repeat(np.arange(0,n),g)\n",
    "    data = np.ones(nz)\n",
    "    if p == None:\n",
    "        p = len(ix)\n",
    "\n",
    "    ixx = np.where(col_ix < p)\n",
    "    return csr.csr_matrix((data[ixx],(row_ix[ixx],col_ix[ixx])),shape=(n,p)),ix\n",
    "\n",
    "\n",
    "def batcher(X_, y_=None, batch_size=-1):\n",
    "    n_samples = X_.shape[0]\n",
    "\n",
    "    if batch_size == -1:\n",
    "        batch_size = n_samples\n",
    "    if batch_size < 1:\n",
    "       raise ValueError('Parameter batch_size={} is unsupported'.format(batch_size))\n",
    "\n",
    "    for i in range(0, n_samples, batch_size):\n",
    "        upper_bound = min(i + batch_size, n_samples)\n",
    "        ret_x = X_[i:upper_bound]\n",
    "        ret_y = None\n",
    "        if y_ is not None:\n",
    "            ret_y = y_[i:i + batch_size]\n",
    "            yield (ret_x, ret_y)\n",
    "\n",
    "\n",
    "cols = ['user','item','rating','timestamp']\n",
    "\n",
    "train = pd.read_csv('data/ua.base',delimiter='\\t',names = cols)\n",
    "test = pd.read_csv('data/ua.test',delimiter='\\t',names = cols)\n",
    "\n",
    "x_train,ix = vectorize_dic({'users':train['user'].values,\n",
    "                            'items':train['item'].values},n=len(train.index),g=2)\n",
    "\n",
    "\n",
    "x_test,ix = vectorize_dic({'users':test['user'].values,\n",
    "                           'items':test['item'].values},ix,x_train.shape[1],n=len(test.index),g=2)\n",
    "\n",
    "\n",
    "print(x_train)\n",
    "y_train = train['rating'].values\n",
    "y_test = test['rating'].values\n",
    "\n",
    "x_train = x_train.todense()\n",
    "x_test = x_test.todense()\n",
    "\n",
    "print(x_train)\n",
    "\n",
    "print(x_train.shape)\n",
    "print (x_test.shape)"
   ]
  },
  {
   "cell_type": "code",
   "execution_count": 15,
   "metadata": {
    "ExecuteTime": {
     "end_time": "2018-07-03T06:14:48.880327Z",
     "start_time": "2018-07-03T06:14:48.657715Z"
    },
    "collapsed": true
   },
   "outputs": [],
   "source": [
    "n,p = x_train.shape\n",
    "\n",
    "k = 10\n",
    "\n",
    "w0 = tf.Variable(tf.zeros([1]))\n",
    "w = tf.Variable(tf.zeros([p]))\n",
    "v = tf.Variable(tf.random_normal([p, k], mean=0, stddev=0.01))\n",
    "\n",
    "x = tf.placeholder('float', [None, p])\n",
    "y = tf.placeholder('float', [None, 1])\n",
    "\n",
    "linear_terms = tf.add(w0, tf.reduce_sum(\n",
    "    tf.multiply(x, w), axis=1, keep_dims=True))\n",
    "pair_terms = 0.5 * tf.subtract(tf.reduce_sum(tf.pow(tf.matmul(x, v), 2), 1),\n",
    "                               tf.reduce_sum(tf.matmul(tf.pow(x, 2), tf.pow(v, 2)), 1))\n",
    "y_hat = tf.add(linear_terms, pair_terms)\n",
    "\n",
    "lambda_w = tf.constant(0.001, name='lambda_w')\n",
    "lambda_v = tf.constant(0.001, name='lambda_v')\n",
    "\n",
    "l2_norm = tf.add(tf.reduce_sum(tf.multiply(\n",
    "    lambda_w, tf.pow(w, 2))), tf.reduce_sum(tf.multiply(lambda_v, tf.pow(v, 2))))\n",
    "\n",
    "error = tf.reduce_mean(tf.square(y - y_hat))\n",
    "loss = tf.add(error, l2_norm)\n",
    "\n",
    "train_op = tf.train.GradientDescentOptimizer(learning_rate=0.01).minimize(loss)"
   ]
  },
  {
   "cell_type": "code",
   "execution_count": 21,
   "metadata": {
    "ExecuteTime": {
     "end_time": "2018-07-03T06:20:51.954805Z",
     "start_time": "2018-07-03T06:18:38.484343Z"
    },
    "scrolled": true
   },
   "outputs": [
    {
     "data": {
      "text/plain": [
       "A Jupyter Widget"
      ]
     },
     "metadata": {},
     "output_type": "display_data"
    },
    {
     "name": "stdout",
     "output_type": "stream",
     "text": [
      "\n"
     ]
    },
    {
     "name": "stderr",
     "output_type": "stream",
     "text": [
      "Exception in thread Thread-6:\n",
      "Traceback (most recent call last):\n",
      "  File \"/Users/muzhen/anaconda3/lib/python3.6/threading.py\", line 916, in _bootstrap_inner\n",
      "    self.run()\n",
      "  File \"/Users/muzhen/anaconda3/lib/python3.6/site-packages/tqdm/_monitor.py\", line 63, in run\n",
      "    for instance in self.tqdm_cls._instances:\n",
      "  File \"/Users/muzhen/anaconda3/lib/python3.6/_weakrefset.py\", line 60, in __iter__\n",
      "    for itemref in self.data:\n",
      "RuntimeError: Set changed size during iteration\n",
      "\n"
     ]
    },
    {
     "name": "stdout",
     "output_type": "stream",
     "text": [
      "[1.0934601]\n",
      "1.04569\n",
      "[1.0934601, 1.0959227]\n",
      "1.04628\n",
      "[1.0934601, 1.0959227, 1.0982112]\n",
      "1.04684\n",
      "[1.0934601, 1.0959227, 1.0982112, 1.1010331]\n",
      "1.04745\n",
      "[1.0934601, 1.0959227, 1.0982112, 1.1010331, 1.1029675]\n",
      "1.04801\n",
      "[1.0934601, 1.0959227, 1.0982112, 1.1010331, 1.1029675, 1.1043241]\n",
      "1.04848\n",
      "[1.0934601, 1.0959227, 1.0982112, 1.1010331, 1.1029675, 1.1043241, 1.1051801]\n",
      "1.04888\n",
      "[1.0934601, 1.0959227, 1.0982112, 1.1010331, 1.1029675, 1.1043241, 1.1051801, 1.1056724]\n",
      "1.04921\n",
      "[1.0934601, 1.0959227, 1.0982112, 1.1010331, 1.1029675, 1.1043241, 1.1051801, 1.1056724, 1.1063873]\n",
      "1.04951\n",
      "[1.0934601, 1.0959227, 1.0982112, 1.1010331, 1.1029675, 1.1043241, 1.1051801, 1.1056724, 1.1063873, 1.1072685]\n",
      "1.04978\n",
      "\n"
     ]
    }
   ],
   "source": [
    "epochs = 10\n",
    "batch_size = 100\n",
    "\n",
    "init = tf.global_variables_initializer()\n",
    "with tf.Session() as sess:\n",
    "    sess.run(init)\n",
    "    \n",
    "    errors = []\n",
    "    \n",
    "    for epoch in tqdm(range(epochs), unit='epoch'):\n",
    "        for bx, by in batcher(x_train, y_train, batch_size):\n",
    "            _, t = sess.run([train_op, loss], feed_dict={x: bx.reshape(-1, p), y:by.reshape(-1, 1)})\n",
    "#             print(t)\n",
    "            \n",
    "        \n",
    "        for bX, bY in batcher(x_test, y_test):\n",
    "            errors.append(sess.run(error, feed_dict={x: bX.reshape(-1, p), y: bY.reshape(-1, 1)}))\n",
    "            print(errors)\n",
    "        RMSE = np.sqrt(np.array(errors).mean())\n",
    "        print (RMSE)\n"
   ]
  },
  {
   "cell_type": "code",
   "execution_count": null,
   "metadata": {
    "collapsed": true
   },
   "outputs": [],
   "source": []
  }
 ],
 "metadata": {
  "kernelspec": {
   "display_name": "Python 3",
   "language": "python",
   "name": "python3"
  },
  "language_info": {
   "codemirror_mode": {
    "name": "ipython",
    "version": 3
   },
   "file_extension": ".py",
   "mimetype": "text/x-python",
   "name": "python",
   "nbconvert_exporter": "python",
   "pygments_lexer": "ipython3",
   "version": "3.6.3"
  },
  "toc": {
   "base_numbering": 1.0,
   "nav_menu": {},
   "number_sections": true,
   "sideBar": true,
   "skip_h1_title": false,
   "title_cell": "Table of Contents",
   "title_sidebar": "Contents",
   "toc_cell": false,
   "toc_position": {},
   "toc_section_display": true,
   "toc_window_display": false
  }
 },
 "nbformat": 4,
 "nbformat_minor": 2
}
